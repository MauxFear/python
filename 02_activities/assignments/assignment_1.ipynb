{
 "cells": [
  {
   "cell_type": "markdown",
   "metadata": {},
   "source": [
    "# Assignment #1: Anagram Checker\n",
    "\n",
    "**Background**: Anagram Checker is a program that takes two words and determines if an anagram can be made from it. If so, the program will return `true`, otherwise `false`."
   ]
  },
  {
   "cell_type": "markdown",
   "metadata": {},
   "source": [
    "## Submission Information\n",
    "\n",
    "🚨 **Please review our [Assignment Submission Guide](https://github.com/UofT-DSI/onboarding/blob/main/onboarding_documents/submissions.md)** 🚨 for detailed instructions on how to format, branch, and submit your work. Following these guidelines is crucial for your submissions to be evaluated correctly.\n",
    "\n",
    "### Submission Parameters:\n",
    "* Submission Due Date: `11:59 PM - Feb 16, 2025`\n",
    "* The branch name for your repo should be: `assignment-1`\n",
    "* What to submit for this assignment:\n",
    "    * This Jupyter Notebook (assignment_1.ipynb) should be populated and should be the only change in your pull request.\n",
    "* What the pull request link should look like for this assignment: `https://github.com/<your_github_username>/python/pull/<pr_id>`\n",
    "    * Open a private window in your browser. Copy and paste the link to your pull request into the address bar. Make sure you can see your pull request properly. This helps the technical facilitator and learning support staff review your submission easily.\n",
    "\n",
    "Checklist:\n",
    "- [ X ] Created a branch with the correct naming convention.\n",
    "- [ X ] Ensured that the repository is public.\n",
    "- [ ] Reviewed the PR description guidelines and adhered to them.\n",
    "- [ ] Verify that the link is accessible in a private browser window.\n",
    "\n",
    "If you encounter any difficulties or have questions, please don't hesitate to reach out to our team via our Slack at `#dc-help`. Our Technical Facilitators and Learning Support staff are here to help you navigate any challenges."
   ]
  },
  {
   "cell_type": "markdown",
   "metadata": {},
   "source": [
    "### Part 1: Building the base Anagram Checker\n",
    "\n",
    "Given two valid strings, check to see if they are anagrams of each other. If it is, return `True`, else `False`. For this part, we can assume that uppercase letters are the same as if it was a lowercase character.\n",
    "\n",
    "Examples of anagrams:\n",
    "* Silent and Listen\n",
    "* Night and Think\n",
    "\n",
    "Example outputs:\n",
    "```python\n",
    "anagram_checker(\"Silent\", \"listen\") # True\n",
    "anagram_checker(\"Silent\", \"Night\") # False\n",
    "anagram_checker(\"night\", \"Thing\") # True\n",
    "```"
   ]
  },
  {
   "cell_type": "code",
   "execution_count": null,
   "metadata": {},
   "outputs": [
    {
     "name": "stdout",
     "output_type": "stream",
     "text": [
      "['e', 'i', 'l', 'n', 's', 't']\n",
      "['e', 'e', 'i', 'i', 'l', 'm', 'n', 's', 't', 't']\n"
     ]
    },
    {
     "data": {
      "text/plain": [
       "True"
      ]
     },
     "execution_count": 24,
     "metadata": {},
     "output_type": "execute_result"
    }
   ],
   "source": [
    "# For testing purposes, we will write our code in the function\n",
    "\n",
    "def anagram_checker(word_a: str, word_b: str) -> bool:\n",
    "    ''' \n",
    "    This function would take two strings and check if the words are anagrams of each other.\n",
    "        Input:\n",
    "            word_a: First word to compare, it should be a string.\n",
    "            word_b: Second word to compare, it should be a string. \n",
    "        Output: \n",
    "            bool: The function returns True or False. \n",
    "\n",
    "        For simplicity, it would focus on alfa numerical characters only and ignore special characters. \n",
    "    '''\n",
    "    # Check if the inputs are strings\n",
    "    for word, name in [(word_a, 'word_a'), (word_b, 'word_b')]:  \n",
    "            if not isinstance(word, str):  \n",
    "                raise TypeError(f'Expected string, got {type(word).__name__} for {name}') \n",
    "    # 1. Assume upper and lower cases are the same, transform the words to lowercase.\n",
    "    modified_word_a = ''.join(char.lower() for char in word_a if char.isalnum())\n",
    "    modified_word_b = ''.join(char.lower() for char in word_b if char.isalnum())\n",
    "    # 2. Sort the string characters in alphabetical order. \n",
    "    sorted_list_char_word_a = sorted(modified_word_a)\n",
    "    sorted_list_char_word_b = sorted(modified_word_b)\n",
    "    print(sorted_list_char_word_b)\n",
    "    # 3. Compare lists and if they are equal the words are anagrams of each other, else they are not. \n",
    "    return sorted_list_char_word_a == sorted_list_char_word_b\n",
    "\n",
    "\n",
    "# Run your code to check using the words below:\n",
    "anagram_checker(\"Silent\", \"listen\")\n",
    "\n",
    "# anagram_checker(\"Silent\", 2364)\n",
    "# anagram_checker(\"Silent Time\", 'lisTen$%& Mite')"
   ]
  },
  {
   "cell_type": "code",
   "execution_count": 14,
   "metadata": {},
   "outputs": [
    {
     "data": {
      "text/plain": [
       "False"
      ]
     },
     "execution_count": 14,
     "metadata": {},
     "output_type": "execute_result"
    }
   ],
   "source": [
    "anagram_checker(\"Silent\", \"Night\")"
   ]
  },
  {
   "cell_type": "code",
   "execution_count": 15,
   "metadata": {},
   "outputs": [
    {
     "data": {
      "text/plain": [
       "True"
      ]
     },
     "execution_count": 15,
     "metadata": {},
     "output_type": "execute_result"
    }
   ],
   "source": [
    "anagram_checker(\"night\", \"Thing\")"
   ]
  },
  {
   "cell_type": "markdown",
   "metadata": {},
   "source": [
    "### Part 2: Expanding the functionality of the Anagram Checker\n",
    "\n",
    "Using your existing and functional anagram checker, let's add a boolean option called `is_case_sensitive`, which will return `True` or `False` based on if the two compared words are anagrams and if we are checking for case sensitivity."
   ]
  },
  {
   "cell_type": "code",
   "execution_count": null,
   "metadata": {},
   "outputs": [
    {
     "data": {
      "text/plain": [
       "True"
      ]
     },
     "execution_count": 25,
     "metadata": {},
     "output_type": "execute_result"
    }
   ],
   "source": [
    "\n",
    "def anagram_checker(word_a: str, word_b: str, is_case_sensitive: bool = False) -> bool:\n",
    "    ''' \n",
    "    This function would take two strings and check if the words are anagrams of each other.\n",
    "        Input:\n",
    "            word_a: First word to compare, it should be a string.\n",
    "            word_b: Second word to compare, it should be a string.\n",
    "            is_case_sensitive: Bool to activate the function to deal with case sensitivity. \n",
    "        Output: \n",
    "            bool: The function returns True or False. \n",
    "\n",
    "        For simplicity, it would focus on alfa numerical characters only and ignore special characters. \n",
    "    '''\n",
    "    # Check if the inputs are strings\n",
    "    for word, name in [(word_a, 'word_a'), (word_b, 'word_b')]:  \n",
    "        if not isinstance(word, str):  \n",
    "            raise TypeError(f'Expected string, got {type(word).__name__} for {name}') \n",
    "    if not isinstance(is_case_sensitive, bool):\n",
    "        is_case_sensitive = False # Ignore wrong inputs in this variable\n",
    "\n",
    "    # 1. Check if is required case sensitivity.\n",
    "    if not is_case_sensitive:\n",
    "        # 1a. Assume upper and lower cases are the same, transform the words to lowercase.\n",
    "        modified_word_a = ''.join(char.lower() for char in word_a if char.isalnum())\n",
    "        modified_word_b = ''.join(char.lower() for char in word_b if char.isalnum())\n",
    "    else:\n",
    "        # 1b. In this case sensitivity is required, do not modify the case size of the words.\n",
    "        modified_word_a = ''.join(char for char in word_a if char.isalnum())\n",
    "        modified_word_b = ''.join(char for char in word_b if char.isalnum())\n",
    "\n",
    "    # 2. Sort the string characters in alphabetical order. \n",
    "    sorted_list_char_word_a = sorted(modified_word_a)\n",
    "    sorted_list_char_word_b = sorted(modified_word_b)\n",
    "    # 3. Compare lists and if they are equal the words are anagrams of each other, else they are not. \n",
    "    return sorted_list_char_word_a == sorted_list_char_word_b\n",
    "\n",
    "# Run your code to check using the words below:\n",
    "anagram_checker(\"Silent\", \"listen\", False) # True\n",
    "\n"
   ]
  },
  {
   "cell_type": "code",
   "execution_count": 26,
   "metadata": {},
   "outputs": [
    {
     "data": {
      "text/plain": [
       "False"
      ]
     },
     "execution_count": 26,
     "metadata": {},
     "output_type": "execute_result"
    }
   ],
   "source": [
    "anagram_checker(\"Silent\", \"Listen\", True) # False"
   ]
  },
  {
   "cell_type": "markdown",
   "metadata": {},
   "source": [
    "|Criteria|Pass|Fail|\n",
    "|---|---|---|\n",
    "|Code Execution|All code cells execute without errors.|Any code cell produces an error upon execution.|\n",
    "|Code Quality|Code is well-organized, concise, and includes necessary comments for clarity. E.g. Great use of variable names.|Code is unorganized, verbose, or lacks necessary comments. E.g. Single character variable names outside of loops.|"
   ]
  },
  {
   "cell_type": "code",
   "execution_count": 28,
   "metadata": {},
   "outputs": [
    {
     "name": "stderr",
     "output_type": "stream",
     "text": [
      "test_anagram_accuracy (__main__.TestAnagramChecker) ... ok\n",
      "test_case_sensitivity (__main__.TestAnagramChecker) ... ok\n",
      "test_error_handling (__main__.TestAnagramChecker) ... ok\n",
      "test_special_cases (__main__.TestAnagramChecker) ... ok\n",
      "\n",
      "----------------------------------------------------------------------\n",
      "Ran 4 tests in 0.012s\n",
      "\n",
      "OK\n"
     ]
    }
   ],
   "source": [
    "# Add unit test to evaluate the anagram_checker function\n",
    "import unittest\n",
    "\n",
    "class TestAnagramChecker(unittest.TestCase):\n",
    "    def test_case_sensitivity(self):\n",
    "        # Case sensitivity tests\n",
    "        self.assertTrue(anagram_checker(\"Angel\", \"angle\", False))\n",
    "        self.assertFalse(anagram_checker(\"Angel\", \"angle\", True))\n",
    "        self.assertFalse(anagram_checker(\"Mother-in-law\", \"Woman Hitler\", True))\n",
    "        self.assertTrue(anagram_checker(\"Dormitory\", \"Dirty room\", True))\n",
    "\n",
    "    def test_anagram_accuracy(self):\n",
    "        # Anagram accuracy tests\n",
    "        self.assertTrue(anagram_checker(\"William Shakespeare\", \"I am a weakish speller\"))\n",
    "        self.assertTrue(anagram_checker(\"Mother-in-law\", \"Woman Hitler\"))\n",
    "        self.assertFalse(anagram_checker(\"Dormitory\", \"Duty room\", True))\n",
    "        self.assertFalse(anagram_checker(\"tea42\", \"eat22\", False))\n",
    "\n",
    "    def test_special_cases(self):  \n",
    "        # Special characters and spaces  \n",
    "        self.assertTrue(anagram_checker(\"rail! safety?\", \"fairy tales\"))  \n",
    "        self.assertTrue(anagram_checker(\"debit-card\", \"bad credit\"))  \n",
    "        self.assertFalse(anagram_checker(\"hello!\", \"helo?\"))  \n",
    "\n",
    "    def test_error_handling(self):  \n",
    "        # Test type errors  \n",
    "        with self.assertRaises(TypeError):  \n",
    "            anagram_checker(123, \"hello\")  \n",
    "        with self.assertRaises(TypeError):  \n",
    "            anagram_checker(\"hello\", 123)  \n",
    "        with self.assertRaises(TypeError):  \n",
    "            anagram_checker(None, \"hello\")  \n",
    "\n",
    "def run_tests():  \n",
    "    suite = unittest.TestLoader().loadTestsFromTestCase(TestAnagramChecker)  \n",
    "    runner = unittest.TextTestRunner(verbosity=2)  \n",
    "    runner.run(suite)  \n",
    "\n",
    "# Run the tests  \n",
    "run_tests()  \n"
   ]
  },
  {
   "cell_type": "code",
   "execution_count": null,
   "metadata": {},
   "outputs": [],
   "source": []
  }
 ],
 "metadata": {
  "kernelspec": {
   "display_name": "Python 3",
   "language": "python",
   "name": "python3"
  },
  "language_info": {
   "codemirror_mode": {
    "name": "ipython",
    "version": 3
   },
   "file_extension": ".py",
   "mimetype": "text/x-python",
   "name": "python",
   "nbconvert_exporter": "python",
   "pygments_lexer": "ipython3",
   "version": "3.9.15"
  }
 },
 "nbformat": 4,
 "nbformat_minor": 2
}
